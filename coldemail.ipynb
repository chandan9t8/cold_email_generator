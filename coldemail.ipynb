{
  "nbformat": 4,
  "nbformat_minor": 0,
  "metadata": {
    "colab": {
      "provenance": []
    },
    "kernelspec": {
      "name": "python3",
      "display_name": "Python 3"
    },
    "language_info": {
      "name": "python"
    }
  },
  "cells": [
    {
      "cell_type": "code",
      "execution_count": 172,
      "metadata": {
        "colab": {
          "base_uri": "https://localhost:8080/"
        },
        "id": "R_cMaV4i5XrN",
        "outputId": "a0d504bf-9c81-473c-cb6b-ab2615c810f3"
      },
      "outputs": [
        {
          "output_type": "stream",
          "name": "stdout",
          "text": [
            "Requirement already satisfied: langchain-groq in /usr/local/lib/python3.10/dist-packages (0.2.1)\n",
            "Requirement already satisfied: chromadb in /usr/local/lib/python3.10/dist-packages (0.5.20)\n",
            "Requirement already satisfied: langchain_community in /usr/local/lib/python3.10/dist-packages (0.3.8)\n",
            "Requirement already satisfied: groq<1,>=0.4.1 in /usr/local/lib/python3.10/dist-packages (from langchain-groq) (0.12.0)\n",
            "Requirement already satisfied: langchain-core<0.4.0,>=0.3.15 in /usr/local/lib/python3.10/dist-packages (from langchain-groq) (0.3.21)\n",
            "Requirement already satisfied: build>=1.0.3 in /usr/local/lib/python3.10/dist-packages (from chromadb) (1.2.2.post1)\n",
            "Requirement already satisfied: pydantic>=1.9 in /usr/local/lib/python3.10/dist-packages (from chromadb) (2.9.2)\n",
            "Requirement already satisfied: chroma-hnswlib==0.7.6 in /usr/local/lib/python3.10/dist-packages (from chromadb) (0.7.6)\n",
            "Requirement already satisfied: fastapi>=0.95.2 in /usr/local/lib/python3.10/dist-packages (from chromadb) (0.115.5)\n",
            "Requirement already satisfied: uvicorn>=0.18.3 in /usr/local/lib/python3.10/dist-packages (from uvicorn[standard]>=0.18.3->chromadb) (0.32.1)\n",
            "Requirement already satisfied: numpy>=1.22.5 in /usr/local/lib/python3.10/dist-packages (from chromadb) (1.26.4)\n",
            "Requirement already satisfied: posthog>=2.4.0 in /usr/local/lib/python3.10/dist-packages (from chromadb) (3.7.3)\n",
            "Requirement already satisfied: typing-extensions>=4.5.0 in /usr/local/lib/python3.10/dist-packages (from chromadb) (4.12.2)\n",
            "Requirement already satisfied: onnxruntime>=1.14.1 in /usr/local/lib/python3.10/dist-packages (from chromadb) (1.20.1)\n",
            "Requirement already satisfied: opentelemetry-api>=1.2.0 in /usr/local/lib/python3.10/dist-packages (from chromadb) (1.28.2)\n",
            "Requirement already satisfied: opentelemetry-exporter-otlp-proto-grpc>=1.2.0 in /usr/local/lib/python3.10/dist-packages (from chromadb) (1.28.2)\n",
            "Requirement already satisfied: opentelemetry-instrumentation-fastapi>=0.41b0 in /usr/local/lib/python3.10/dist-packages (from chromadb) (0.49b2)\n",
            "Requirement already satisfied: opentelemetry-sdk>=1.2.0 in /usr/local/lib/python3.10/dist-packages (from chromadb) (1.28.2)\n",
            "Requirement already satisfied: tokenizers>=0.13.2 in /usr/local/lib/python3.10/dist-packages (from chromadb) (0.20.3)\n",
            "Requirement already satisfied: pypika>=0.48.9 in /usr/local/lib/python3.10/dist-packages (from chromadb) (0.48.9)\n",
            "Requirement already satisfied: tqdm>=4.65.0 in /usr/local/lib/python3.10/dist-packages (from chromadb) (4.66.6)\n",
            "Requirement already satisfied: overrides>=7.3.1 in /usr/local/lib/python3.10/dist-packages (from chromadb) (7.7.0)\n",
            "Requirement already satisfied: importlib-resources in /usr/local/lib/python3.10/dist-packages (from chromadb) (6.4.5)\n",
            "Requirement already satisfied: grpcio>=1.58.0 in /usr/local/lib/python3.10/dist-packages (from chromadb) (1.68.0)\n",
            "Requirement already satisfied: bcrypt>=4.0.1 in /usr/local/lib/python3.10/dist-packages (from chromadb) (4.2.1)\n",
            "Requirement already satisfied: typer>=0.9.0 in /usr/local/lib/python3.10/dist-packages (from chromadb) (0.13.0)\n",
            "Requirement already satisfied: kubernetes>=28.1.0 in /usr/local/lib/python3.10/dist-packages (from chromadb) (31.0.0)\n",
            "Requirement already satisfied: tenacity>=8.2.3 in /usr/local/lib/python3.10/dist-packages (from chromadb) (9.0.0)\n",
            "Requirement already satisfied: PyYAML>=6.0.0 in /usr/local/lib/python3.10/dist-packages (from chromadb) (6.0.2)\n",
            "Requirement already satisfied: mmh3>=4.0.1 in /usr/local/lib/python3.10/dist-packages (from chromadb) (5.0.1)\n",
            "Requirement already satisfied: orjson>=3.9.12 in /usr/local/lib/python3.10/dist-packages (from chromadb) (3.10.11)\n",
            "Requirement already satisfied: httpx>=0.27.0 in /usr/local/lib/python3.10/dist-packages (from chromadb) (0.27.2)\n",
            "Requirement already satisfied: rich>=10.11.0 in /usr/local/lib/python3.10/dist-packages (from chromadb) (13.9.4)\n",
            "Requirement already satisfied: SQLAlchemy<2.0.36,>=1.4 in /usr/local/lib/python3.10/dist-packages (from langchain_community) (2.0.35)\n",
            "Requirement already satisfied: aiohttp<4.0.0,>=3.8.3 in /usr/local/lib/python3.10/dist-packages (from langchain_community) (3.11.2)\n",
            "Requirement already satisfied: dataclasses-json<0.7,>=0.5.7 in /usr/local/lib/python3.10/dist-packages (from langchain_community) (0.6.7)\n",
            "Requirement already satisfied: httpx-sse<0.5.0,>=0.4.0 in /usr/local/lib/python3.10/dist-packages (from langchain_community) (0.4.0)\n",
            "Requirement already satisfied: langchain<0.4.0,>=0.3.8 in /usr/local/lib/python3.10/dist-packages (from langchain_community) (0.3.8)\n",
            "Requirement already satisfied: langsmith<0.2.0,>=0.1.125 in /usr/local/lib/python3.10/dist-packages (from langchain_community) (0.1.143)\n",
            "Requirement already satisfied: pydantic-settings<3.0.0,>=2.4.0 in /usr/local/lib/python3.10/dist-packages (from langchain_community) (2.6.1)\n",
            "Requirement already satisfied: requests<3,>=2 in /usr/local/lib/python3.10/dist-packages (from langchain_community) (2.32.3)\n",
            "Requirement already satisfied: aiohappyeyeballs>=2.3.0 in /usr/local/lib/python3.10/dist-packages (from aiohttp<4.0.0,>=3.8.3->langchain_community) (2.4.3)\n",
            "Requirement already satisfied: aiosignal>=1.1.2 in /usr/local/lib/python3.10/dist-packages (from aiohttp<4.0.0,>=3.8.3->langchain_community) (1.3.1)\n",
            "Requirement already satisfied: attrs>=17.3.0 in /usr/local/lib/python3.10/dist-packages (from aiohttp<4.0.0,>=3.8.3->langchain_community) (24.2.0)\n",
            "Requirement already satisfied: frozenlist>=1.1.1 in /usr/local/lib/python3.10/dist-packages (from aiohttp<4.0.0,>=3.8.3->langchain_community) (1.5.0)\n",
            "Requirement already satisfied: multidict<7.0,>=4.5 in /usr/local/lib/python3.10/dist-packages (from aiohttp<4.0.0,>=3.8.3->langchain_community) (6.1.0)\n",
            "Requirement already satisfied: propcache>=0.2.0 in /usr/local/lib/python3.10/dist-packages (from aiohttp<4.0.0,>=3.8.3->langchain_community) (0.2.0)\n",
            "Requirement already satisfied: yarl<2.0,>=1.17.0 in /usr/local/lib/python3.10/dist-packages (from aiohttp<4.0.0,>=3.8.3->langchain_community) (1.17.2)\n",
            "Requirement already satisfied: async-timeout<6.0,>=4.0 in /usr/local/lib/python3.10/dist-packages (from aiohttp<4.0.0,>=3.8.3->langchain_community) (4.0.3)\n",
            "Requirement already satisfied: packaging>=19.1 in /usr/local/lib/python3.10/dist-packages (from build>=1.0.3->chromadb) (24.2)\n",
            "Requirement already satisfied: pyproject_hooks in /usr/local/lib/python3.10/dist-packages (from build>=1.0.3->chromadb) (1.2.0)\n",
            "Requirement already satisfied: tomli>=1.1.0 in /usr/local/lib/python3.10/dist-packages (from build>=1.0.3->chromadb) (2.1.0)\n",
            "Requirement already satisfied: marshmallow<4.0.0,>=3.18.0 in /usr/local/lib/python3.10/dist-packages (from dataclasses-json<0.7,>=0.5.7->langchain_community) (3.23.1)\n",
            "Requirement already satisfied: typing-inspect<1,>=0.4.0 in /usr/local/lib/python3.10/dist-packages (from dataclasses-json<0.7,>=0.5.7->langchain_community) (0.9.0)\n",
            "Requirement already satisfied: starlette<0.42.0,>=0.40.0 in /usr/local/lib/python3.10/dist-packages (from fastapi>=0.95.2->chromadb) (0.41.3)\n",
            "Requirement already satisfied: anyio<5,>=3.5.0 in /usr/local/lib/python3.10/dist-packages (from groq<1,>=0.4.1->langchain-groq) (3.7.1)\n",
            "Requirement already satisfied: distro<2,>=1.7.0 in /usr/local/lib/python3.10/dist-packages (from groq<1,>=0.4.1->langchain-groq) (1.9.0)\n",
            "Requirement already satisfied: sniffio in /usr/local/lib/python3.10/dist-packages (from groq<1,>=0.4.1->langchain-groq) (1.3.1)\n",
            "Requirement already satisfied: certifi in /usr/local/lib/python3.10/dist-packages (from httpx>=0.27.0->chromadb) (2024.8.30)\n",
            "Requirement already satisfied: httpcore==1.* in /usr/local/lib/python3.10/dist-packages (from httpx>=0.27.0->chromadb) (1.0.7)\n",
            "Requirement already satisfied: idna in /usr/local/lib/python3.10/dist-packages (from httpx>=0.27.0->chromadb) (3.10)\n",
            "Requirement already satisfied: h11<0.15,>=0.13 in /usr/local/lib/python3.10/dist-packages (from httpcore==1.*->httpx>=0.27.0->chromadb) (0.14.0)\n",
            "Requirement already satisfied: six>=1.9.0 in /usr/local/lib/python3.10/dist-packages (from kubernetes>=28.1.0->chromadb) (1.16.0)\n",
            "Requirement already satisfied: python-dateutil>=2.5.3 in /usr/local/lib/python3.10/dist-packages (from kubernetes>=28.1.0->chromadb) (2.8.2)\n",
            "Requirement already satisfied: google-auth>=1.0.1 in /usr/local/lib/python3.10/dist-packages (from kubernetes>=28.1.0->chromadb) (2.27.0)\n",
            "Requirement already satisfied: websocket-client!=0.40.0,!=0.41.*,!=0.42.*,>=0.32.0 in /usr/local/lib/python3.10/dist-packages (from kubernetes>=28.1.0->chromadb) (1.8.0)\n",
            "Requirement already satisfied: requests-oauthlib in /usr/local/lib/python3.10/dist-packages (from kubernetes>=28.1.0->chromadb) (1.3.1)\n",
            "Requirement already satisfied: oauthlib>=3.2.2 in /usr/local/lib/python3.10/dist-packages (from kubernetes>=28.1.0->chromadb) (3.2.2)\n",
            "Requirement already satisfied: urllib3>=1.24.2 in /usr/local/lib/python3.10/dist-packages (from kubernetes>=28.1.0->chromadb) (2.2.3)\n",
            "Requirement already satisfied: durationpy>=0.7 in /usr/local/lib/python3.10/dist-packages (from kubernetes>=28.1.0->chromadb) (0.9)\n",
            "Requirement already satisfied: langchain-text-splitters<0.4.0,>=0.3.0 in /usr/local/lib/python3.10/dist-packages (from langchain<0.4.0,>=0.3.8->langchain_community) (0.3.2)\n",
            "Requirement already satisfied: jsonpatch<2.0,>=1.33 in /usr/local/lib/python3.10/dist-packages (from langchain-core<0.4.0,>=0.3.15->langchain-groq) (1.33)\n",
            "Requirement already satisfied: requests-toolbelt<2.0.0,>=1.0.0 in /usr/local/lib/python3.10/dist-packages (from langsmith<0.2.0,>=0.1.125->langchain_community) (1.0.0)\n",
            "Requirement already satisfied: coloredlogs in /usr/local/lib/python3.10/dist-packages (from onnxruntime>=1.14.1->chromadb) (15.0.1)\n",
            "Requirement already satisfied: flatbuffers in /usr/local/lib/python3.10/dist-packages (from onnxruntime>=1.14.1->chromadb) (24.3.25)\n",
            "Requirement already satisfied: protobuf in /usr/local/lib/python3.10/dist-packages (from onnxruntime>=1.14.1->chromadb) (5.28.3)\n",
            "Requirement already satisfied: sympy in /usr/local/lib/python3.10/dist-packages (from onnxruntime>=1.14.1->chromadb) (1.13.1)\n",
            "Requirement already satisfied: deprecated>=1.2.6 in /usr/local/lib/python3.10/dist-packages (from opentelemetry-api>=1.2.0->chromadb) (1.2.15)\n",
            "Requirement already satisfied: importlib-metadata<=8.5.0,>=6.0 in /usr/local/lib/python3.10/dist-packages (from opentelemetry-api>=1.2.0->chromadb) (8.5.0)\n",
            "Requirement already satisfied: googleapis-common-protos~=1.52 in /usr/local/lib/python3.10/dist-packages (from opentelemetry-exporter-otlp-proto-grpc>=1.2.0->chromadb) (1.66.0)\n",
            "Requirement already satisfied: opentelemetry-exporter-otlp-proto-common==1.28.2 in /usr/local/lib/python3.10/dist-packages (from opentelemetry-exporter-otlp-proto-grpc>=1.2.0->chromadb) (1.28.2)\n",
            "Requirement already satisfied: opentelemetry-proto==1.28.2 in /usr/local/lib/python3.10/dist-packages (from opentelemetry-exporter-otlp-proto-grpc>=1.2.0->chromadb) (1.28.2)\n",
            "Requirement already satisfied: opentelemetry-instrumentation-asgi==0.49b2 in /usr/local/lib/python3.10/dist-packages (from opentelemetry-instrumentation-fastapi>=0.41b0->chromadb) (0.49b2)\n",
            "Requirement already satisfied: opentelemetry-instrumentation==0.49b2 in /usr/local/lib/python3.10/dist-packages (from opentelemetry-instrumentation-fastapi>=0.41b0->chromadb) (0.49b2)\n",
            "Requirement already satisfied: opentelemetry-semantic-conventions==0.49b2 in /usr/local/lib/python3.10/dist-packages (from opentelemetry-instrumentation-fastapi>=0.41b0->chromadb) (0.49b2)\n",
            "Requirement already satisfied: opentelemetry-util-http==0.49b2 in /usr/local/lib/python3.10/dist-packages (from opentelemetry-instrumentation-fastapi>=0.41b0->chromadb) (0.49b2)\n",
            "Requirement already satisfied: wrapt<2.0.0,>=1.0.0 in /usr/local/lib/python3.10/dist-packages (from opentelemetry-instrumentation==0.49b2->opentelemetry-instrumentation-fastapi>=0.41b0->chromadb) (1.16.0)\n",
            "Requirement already satisfied: asgiref~=3.0 in /usr/local/lib/python3.10/dist-packages (from opentelemetry-instrumentation-asgi==0.49b2->opentelemetry-instrumentation-fastapi>=0.41b0->chromadb) (3.8.1)\n",
            "Requirement already satisfied: monotonic>=1.5 in /usr/local/lib/python3.10/dist-packages (from posthog>=2.4.0->chromadb) (1.6)\n",
            "Requirement already satisfied: backoff>=1.10.0 in /usr/local/lib/python3.10/dist-packages (from posthog>=2.4.0->chromadb) (2.2.1)\n",
            "Requirement already satisfied: annotated-types>=0.6.0 in /usr/local/lib/python3.10/dist-packages (from pydantic>=1.9->chromadb) (0.7.0)\n",
            "Requirement already satisfied: pydantic-core==2.23.4 in /usr/local/lib/python3.10/dist-packages (from pydantic>=1.9->chromadb) (2.23.4)\n",
            "Requirement already satisfied: python-dotenv>=0.21.0 in /usr/local/lib/python3.10/dist-packages (from pydantic-settings<3.0.0,>=2.4.0->langchain_community) (1.0.1)\n",
            "Requirement already satisfied: charset-normalizer<4,>=2 in /usr/local/lib/python3.10/dist-packages (from requests<3,>=2->langchain_community) (3.4.0)\n",
            "Requirement already satisfied: markdown-it-py>=2.2.0 in /usr/local/lib/python3.10/dist-packages (from rich>=10.11.0->chromadb) (3.0.0)\n",
            "Requirement already satisfied: pygments<3.0.0,>=2.13.0 in /usr/local/lib/python3.10/dist-packages (from rich>=10.11.0->chromadb) (2.18.0)\n",
            "Requirement already satisfied: greenlet!=0.4.17 in /usr/local/lib/python3.10/dist-packages (from SQLAlchemy<2.0.36,>=1.4->langchain_community) (3.1.1)\n",
            "Requirement already satisfied: huggingface-hub<1.0,>=0.16.4 in /usr/local/lib/python3.10/dist-packages (from tokenizers>=0.13.2->chromadb) (0.26.2)\n",
            "Requirement already satisfied: click>=8.0.0 in /usr/local/lib/python3.10/dist-packages (from typer>=0.9.0->chromadb) (8.1.7)\n",
            "Requirement already satisfied: shellingham>=1.3.0 in /usr/local/lib/python3.10/dist-packages (from typer>=0.9.0->chromadb) (1.5.4)\n",
            "Requirement already satisfied: httptools>=0.6.3 in /usr/local/lib/python3.10/dist-packages (from uvicorn[standard]>=0.18.3->chromadb) (0.6.4)\n",
            "Requirement already satisfied: uvloop!=0.15.0,!=0.15.1,>=0.14.0 in /usr/local/lib/python3.10/dist-packages (from uvicorn[standard]>=0.18.3->chromadb) (0.21.0)\n",
            "Requirement already satisfied: watchfiles>=0.13 in /usr/local/lib/python3.10/dist-packages (from uvicorn[standard]>=0.18.3->chromadb) (1.0.0)\n",
            "Requirement already satisfied: websockets>=10.4 in /usr/local/lib/python3.10/dist-packages (from uvicorn[standard]>=0.18.3->chromadb) (14.1)\n",
            "Requirement already satisfied: exceptiongroup in /usr/local/lib/python3.10/dist-packages (from anyio<5,>=3.5.0->groq<1,>=0.4.1->langchain-groq) (1.2.2)\n",
            "Requirement already satisfied: cachetools<6.0,>=2.0.0 in /usr/local/lib/python3.10/dist-packages (from google-auth>=1.0.1->kubernetes>=28.1.0->chromadb) (5.5.0)\n",
            "Requirement already satisfied: pyasn1-modules>=0.2.1 in /usr/local/lib/python3.10/dist-packages (from google-auth>=1.0.1->kubernetes>=28.1.0->chromadb) (0.4.1)\n",
            "Requirement already satisfied: rsa<5,>=3.1.4 in /usr/local/lib/python3.10/dist-packages (from google-auth>=1.0.1->kubernetes>=28.1.0->chromadb) (4.9)\n",
            "Requirement already satisfied: filelock in /usr/local/lib/python3.10/dist-packages (from huggingface-hub<1.0,>=0.16.4->tokenizers>=0.13.2->chromadb) (3.16.1)\n",
            "Requirement already satisfied: fsspec>=2023.5.0 in /usr/local/lib/python3.10/dist-packages (from huggingface-hub<1.0,>=0.16.4->tokenizers>=0.13.2->chromadb) (2024.10.0)\n",
            "Requirement already satisfied: zipp>=3.20 in /usr/local/lib/python3.10/dist-packages (from importlib-metadata<=8.5.0,>=6.0->opentelemetry-api>=1.2.0->chromadb) (3.21.0)\n",
            "Requirement already satisfied: jsonpointer>=1.9 in /usr/local/lib/python3.10/dist-packages (from jsonpatch<2.0,>=1.33->langchain-core<0.4.0,>=0.3.15->langchain-groq) (3.0.0)\n",
            "Requirement already satisfied: mdurl~=0.1 in /usr/local/lib/python3.10/dist-packages (from markdown-it-py>=2.2.0->rich>=10.11.0->chromadb) (0.1.2)\n",
            "Requirement already satisfied: mypy-extensions>=0.3.0 in /usr/local/lib/python3.10/dist-packages (from typing-inspect<1,>=0.4.0->dataclasses-json<0.7,>=0.5.7->langchain_community) (1.0.0)\n",
            "Requirement already satisfied: humanfriendly>=9.1 in /usr/local/lib/python3.10/dist-packages (from coloredlogs->onnxruntime>=1.14.1->chromadb) (10.0)\n",
            "Requirement already satisfied: mpmath<1.4,>=1.1.0 in /usr/local/lib/python3.10/dist-packages (from sympy->onnxruntime>=1.14.1->chromadb) (1.3.0)\n",
            "Requirement already satisfied: pyasn1<0.7.0,>=0.4.6 in /usr/local/lib/python3.10/dist-packages (from pyasn1-modules>=0.2.1->google-auth>=1.0.1->kubernetes>=28.1.0->chromadb) (0.6.1)\n"
          ]
        }
      ],
      "source": [
        "!pip install langchain-groq chromadb langchain_community"
      ]
    },
    {
      "cell_type": "code",
      "source": [
        "from langchain_groq import ChatGroq\n",
        "from langchain_core.prompts import ChatPromptTemplate"
      ],
      "metadata": {
        "id": "ldldFYvG6nus"
      },
      "execution_count": 173,
      "outputs": []
    },
    {
      "cell_type": "code",
      "source": [
        "# configuring the llm\n",
        "model = ChatGroq(temperature=1,\n",
        "                groq_api_key=\"Your API Key here",\n",
        "                model_name=\"llama-3.1-70b-versatile\")\n",
        "\n",
        "system = \"You are a helpful assistant who will generate a cold email based on a job description.\"\n",
        "human = \"{text}\"\n",
        "prompt = ChatPromptTemplate.from_messages([(\"system\", system), (\"human\", human)])\n",
        "\n",
        "# chaining the prompt to the llm\n",
        "chain = prompt | model\n",
        "response = chain.invoke({\"text\": \"\"\"At Bath & Body Works, everyone belongs. We are committed to creating a diverse, equitable and inclusive culture focused on delivering exceptional fragrances and experiences to our customers. We focus on recruiting, retaining, and advancing diverse talent where our associate population is as diverse as the communities we serve, live and work. In addition, we work to improve our communities and our planet in a way that will make us proud for years to come because we believe the world is a brighter, happier place when everyone has access to the things that make them happy.\n",
        "\n",
        "The Data Scientist is primarily responsible for leading development initiatives to create or expand on AI and Generative AI modeling methodologies and applications to support multiple business areas including Marketing, Finance, MP&A, etc. In addition to methodology creation, the Data Scientist will be highly skilled at identifying relevant data sources, collecting data and developing feature datasets to be used in modeling initiatives. Furthermore, the Data Scientist will be expected to communicate findings and collaborate with business teams on activation strategies to implement results.\n",
        "\n",
        "Responsibilities\n",
        "\n",
        "Serve as leading data science strategist to develop new methodologies, models and applications related to AI and Generative AI business use cases.\n",
        "Interact with brand partners with respect to modeling and analytics.\n",
        "Extract, cleanse, and transform data for predictive modeling.\n",
        "Develop and implement automated, production-grade predictive model pipelines.\n",
        "Develop complex queries and automated scripts using Python & SQL.\n",
        "Fully handle projects end to end from identifying business opportunities to developed POC to creating automated modeling pipeline.\n",
        "Work with business partners to incorporate and implement results into current and future strategies.\n",
        "Communicate findings and recommendations to various partners across the organization.\n",
        "Complete hypothesis tests, sample size, and power calculations.\n",
        "Stay current with business results, strategies, industry standards, and tried and tested methodologies.\n",
        "\"\"\"})\n",
        "\n",
        "print(response.content)"
      ],
      "metadata": {
        "colab": {
          "base_uri": "https://localhost:8080/"
        },
        "id": "LuX28QtL7CcO",
        "outputId": "25e9b2d2-7d36-4ebc-baba-2143e0b44bfb"
      },
      "execution_count": 174,
      "outputs": [
        {
          "output_type": "stream",
          "name": "stdout",
          "text": [
            "Here's a cold email based on the provided job description:\n",
            "\n",
            "Subject: Unlocking Data-Driven Insights for Business Growth\n",
            "\n",
            "Dear [Hiring Manager's Name],\n",
            "\n",
            "As a Data Scientist with a passion for harnessing the power of AI and Generative AI in driving business growth, I'm excited to explore opportunities at Bath & Body Works, where innovation and inclusivity come together.\n",
            "\n",
            "With [Number of Years] years of experience in developing and implementing predictive modeling strategies, I'm confident in my ability to lead development initiatives and create or expand on AI and Generative AI modeling methodologies. My expertise in extracting, cleansing, and transforming data for predictive modeling has allowed me to deliver high-impact results in my previous roles.\n",
            "\n",
            "I'm particularly drawn to Bath & Body Works' commitment to creating a diverse, equitable, and inclusive culture, and I'm impressed by the company's focus on using data to drive business growth and customer satisfaction. As a data scientist with a strong background in Python and SQL, I'm well-equipped to develop complex queries and automated scripts, and I'm excited about the opportunity to work closely with business partners to activate results and drive business outcomes.\n",
            "\n",
            "As a solutions-driven professional with a strong analytical mindset, I'm committed to staying current with industry standards, business results, and strategies. I'm excited about the opportunity to bring my skills and expertise to Bath & Body Works and contribute to the company's continued success.\n",
            "\n",
            "I'd love to discuss my qualifications further and explore how my skills and experience align with the company's goals and objectives. Please feel free to reach out to me at [Your Email Address] or [Your Phone Number] to schedule a call.\n",
            "\n",
            "Best regards,\n",
            "\n",
            "[Your Name]\n",
            "\n",
            "Note that you should customize the email to fit your own experience and style, and make sure to research the company and tailor the email to their specific needs and culture.\n"
          ]
        }
      ]
    },
    {
      "cell_type": "markdown",
      "source": [
        "we want the job description to be extracted directly from a url. We need to use a scraper."
      ],
      "metadata": {
        "id": "EMEydT77-b2X"
      }
    },
    {
      "cell_type": "code",
      "source": [
        "# web scraper\n",
        "\n",
        "from langchain_community.document_loaders import WebBaseLoader\n",
        "\n",
        "loader = WebBaseLoader(\"https://recruiting.paylocity.com/recruiting/jobs/Details/2852949/Barber-Nichols-Inc/Senior-Firmware-Engineer\")\n",
        "\n",
        "job_description = loader.load().pop().page_content\n",
        "print(job_description)"
      ],
      "metadata": {
        "colab": {
          "base_uri": "https://localhost:8080/"
        },
        "id": "VT1cZck78Bph",
        "outputId": "fbec3b31-19fe-4a79-a7d0-d5e2163802a3"
      },
      "execution_count": 175,
      "outputs": [
        {
          "output_type": "stream",
          "name": "stdout",
          "text": [
            "\n",
            "\n",
            "\n",
            "\n",
            "\n",
            "\n",
            "\n",
            "\n",
            "\n",
            "\n",
            "\n",
            "\n",
            "\n",
            "\n",
            "\n",
            "\n",
            "\n",
            "Barber-Nichols, Inc. - Senior Firmware Engineer\n",
            "\n",
            "\n",
            "\n",
            "\n",
            "\n",
            "\n",
            "\n",
            "\n",
            "\n",
            "\n",
            "\n",
            "\n",
            "In order to use this site, it is necessary to enable JavaScript.\n",
            "\r\n",
            "      Here are the instructions how to enable JavaScript in your web browser.\r\n",
            "    \n",
            "\n",
            "\n",
            "\n",
            "\n",
            "\n",
            "\n",
            "\n",
            "All Jobs\r\n",
            "                 > \r\n",
            "              \n",
            "Senior Firmware Engineer\n",
            "\n",
            "\n",
            "\n",
            "\n",
            "\n",
            "\n",
            "Barber-Nichols, Inc.\n",
            "\n",
            "\n",
            "\n",
            "\n",
            "\n",
            "Apply\n",
            "\n",
            "\n",
            "\n",
            "Senior Firmware Engineer\n",
            "\n",
            "\n",
            "\r\n",
            "          Colorado                  \n",
            "\n",
            "\n",
            "\n",
            "\n",
            "\n",
            "\n",
            "\n",
            "\n",
            "\n",
            "\n",
            "Apply\n",
            "\n",
            "Description\n",
            "About Barber-Nichols:Barber-Nichols (BN) is a leading provider of custom turbomachinery for the Defense, Aerospace, Cryogenics and Energy industries. This is a unique place. Our company is made up of people that are at the top of their game. And we are working with customers who are at the top of their game. Together, we help our customers revolutionize their markets and build amazing relationships with them in the process. If you're seeking to work with an amazing team in a “get-it-done” atmosphere that supports your development, and recognizes your achievements, BN is the place for you.Position Summary:The Senior Firmware Engineer owns the analysis, design, integration, documentation, and troubleshooting of Embedded FPGA designs for the product platforms primarily consisting of motor controllers in the 100W to 50kW range within Space, Defense, Energy and Thermal Management product segments. They develop solutions that ensure both project and long-term business success in coordination with other members of the electrical engineering department as overseen by the project lead. Projects may include clean sheet designs, modifications/enhancements to existing designs, repeat manufacturing support, and/or sustaining and support of existing products.Key Results Areas: Work directly with department leads to collaboratively develop designs, and products compliant with all customer requirements including technical, schedule, budget, and quality. Decompose customer requirements necessary for system definition and Firmware allocation. Develop designs and documentation to determine conformance to project specifications and requirements.Own all firmware related content in cross functional design reviews.   Collaborate with leadership to help define programmatic activities such as creating and maintaining project budgets, schedules and formal milestonesDefine firmware integration and formal test plans and specify/procure associated test hardware for developing, validating and troubleshooting designs.Review testing (both design, assembly and product), preparing results and deriving conclusions as appropriate.Resolve technical challenges across a wide range of products, ranging from obsolescence support of heritage products to troubleshooting designs under active development to testing emerging technology for future integration into the business.Own the technical analysis and design effort with minimal oversight.Own system troubleshooting and control development activities.Analyze and recommend design approaches and processes to ensure both project and long-term business success.Interfacing and mentoring with other team members. Qualifications:To qualify for this position, an individual must possess the knowledge, training, experience and abilities required. Education and TrainingBachelor’s degree in electrical or computer engineering or equivalent combination of education and work experienceExperience:Minimum of 8 years related experience developing complex products with multiple subsystems (i.e. sensors and signal conditioning, diagnostics, motor controls, etc.).Demonstrated ability to develop firmware for embedded controller hardware from proposal to final shipment.Demonstrated ability to review customer specifications, develop designs to best support them and flow derived requirements to other analysts and engineers. Familiar with the following toolsets (Vivado/Libero/Quartus/Diamond)Strong proficiency in MATLAB SimulinkMinimum of 5 years’ experience with building Simulink models Strong ability to debug FPGA hardware on target in a laboratory environmentExceptional knowledge of SPI/PCIe/Rs422/CAN/ARINC/I2C/CRCs/JTAGExperience with Xilinx, Microsemi, and Lattice FPGA devicesWorking knowledge of safety critical systems and architecturesWorking knowledge of switching power supplies, inverter design, and motor controlsOther:Must be willing to work overtime as requiredTravel up to 10% of working time.\n",
            "Requirements\n",
            "Desired Job Qualification:8 years’ experience designing safety critical architectures using FPGA’sExperience using MTALB’s HDL Coder for FPGA developmentExperience designing motion control systemsExperience Designing FPGAs using DO254/MIL-STD 882 GuidanceExperience Designing FPGAs for Aerospace/defense applicationsExperience with FPAG Elemental analysis or ARP4754 design verification.Experience with ARP4761 FMECA and FHA/SHA processesExperience with requirements management tools such as Polarion/Jama/DoorsExperience designing FPGA functions from scratch that can be ported to any device with our vendor specific support. Skills:To perform the job successfully, an individual should demonstrate the following competencies: Comprehensive electronics skills specifically as it relates to developing and troubleshooting low volume devices.Comprehensive understanding of rotating machine control algorithms, digital filtering, gate drive algorithms, and VHDL coding as it relates to the control of any electromechanical system. Excellent communication (written and verbal), organization and time managementDemonstrate behavior consistent with company valuesAbility to successfully plan and implement objectives within established timelines.Ability to analyze problems and develop effective solutions at both strategic and functional levels.Ability to work independently, with minimal direction as a highly motivated self-starter and within a team-oriented culture ITAR Requirements: To conform to U.S. Government commercial space technology export regulations, including the International Traffic in Arms Regulations (ITAR), 8 U.S.C. § 1324b(a)(3), applicants for employment at Barber-Nichols must be a U.S. citizen or national, lawfully admitted for permanent residence into the U.S. (i.e., current green card holder), or lawfully admitted as a refugee or granted asylum under 8 U.S.C. § 1157-1158. Security clearance is not required for this position.Equal Opportunity Employer:Barber-Nichols is an Equal Opportunity/Affirmative Action employer. All qualified applicants will receive consideration for employment without regard to race, color, religion, sex, marital status, sexual orientation, gender identity, national origin, disability status, protected veteran status, or any protected status as defined by law.Compensation and Benefits:The salary range for this role is $130,000-$160,000. This range represent the anticipated minimum and maximum base + bonus for this position based upon a good faith and reasonable estimate. The final compensation for this position will be set based on the applicant’s qualifications (education, training and/or experience related to this role), and therefore, may fall outside the range shown, depending on the circumstances.To view our benefits provided please visit Careers | Barber-Nichols.\n",
            "\n",
            "\n",
            "Apply\n",
            "\n",
            "\n",
            "\n",
            "View All Jobs \n",
            "\n",
            "\n",
            "\n",
            "\n",
            "Powered by \n",
            "\r\n",
            "      Privacy Policy\r\n",
            "    \r\n",
            "    |\r\n",
            "    \r\n",
            "      Payroll & HR Software\r\n",
            "    \n",
            "\n",
            "\n",
            "\n",
            "\n",
            "\n",
            "\n",
            "\n",
            "\n",
            "\n",
            "\n",
            "\n",
            "\n",
            "\n",
            "\n",
            "\n",
            "\n",
            "\n",
            "\n",
            "\n",
            "\n",
            "\n",
            "\n",
            "\n",
            "\n",
            "\n",
            "\n",
            "\n",
            "\n"
          ]
        }
      ]
    },
    {
      "cell_type": "code",
      "source": [
        "# template for extracting the relavant information from Job description\n",
        "\n",
        "from langchain.prompts.chat import ChatPromptTemplate\n",
        "\n",
        "prompt = ChatPromptTemplate.from_template(\n",
        "    \"\"\"\n",
        "    ### SCRAPED TEXT FROM WEBSITE:\n",
        "    {page_data}\n",
        "\n",
        "    ### INSTRUCTION:\n",
        "    The above text is scraped from the careers page of a website. Your task is to extract job posting\n",
        "    and return it in a JSON format. The JSON object should contain the following keys:\n",
        "        - `role`: The job title or role.\n",
        "        - `experience`: Experience required for the role.\n",
        "        - `skills`: A list of required or preferred skills.\n",
        "        - `description`: A brief description of the role.\n",
        "\n",
        "    Rules:\n",
        "    1. If a key is missing in the scraped data, use `null` for its value.\n",
        "    2. Ignore irrelevant content.\n",
        "    3. Only return the valid JSON object (no preamble or additional text).\n",
        "\n",
        "    ### OUTPUT FORMAT:\n",
        "        {{\n",
        "            \"role\": \"Example Role\",\n",
        "            \"experience\": \"3+ years\",\n",
        "            \"skills\": [\"Skill 1\", \"Skill 2\"],\n",
        "            \"description\": \"This is a sample job description.\"\n",
        "        }},\n",
        "        ...\n",
        "    \"\"\")\n",
        "\n",
        "\n",
        "llm_chain = prompt | model\n",
        "result = llm_chain.invoke(input={\"page_data\" : job_description})     #feeding the scraped data to llm\n",
        "print(result.content)"
      ],
      "metadata": {
        "colab": {
          "base_uri": "https://localhost:8080/"
        },
        "id": "6QrYgSw-A6oZ",
        "outputId": "557c4f27-b88b-4d9e-8078-1754cdee57f6"
      },
      "execution_count": 176,
      "outputs": [
        {
          "output_type": "stream",
          "name": "stdout",
          "text": [
            "{\n",
            "    \"role\": \"Senior Firmware Engineer\",\n",
            "    \"experience\": \"Minimum of 8 years related experience\",\n",
            "    \"skills\": [\n",
            "        \"Strong proficiency in MATLAB Simulink\",\n",
            "        \"Minimum of 5 years’ experience with building Simulink models\",\n",
            "        \"Strong ability to debug FPGA hardware on target in a laboratory environment\",\n",
            "        \"Exceptional knowledge of SPI/PCIe/Rs422/CAN/ARINC/I2C/CRCs/JTAG\",\n",
            "        \"Experience with Xilinx, Microsemi, and Lattice FPGA devices\",\n",
            "        \"Working knowledge of safety critical systems and architectures\",\n",
            "        \"Working knowledge of switching power supplies, inverter design, and motor controls\"\n",
            "    ],\n",
            "    \"description\": \"Barber-Nichols is a leading provider of custom turbomachinery for the Defense, Aerospace, Cryogenics and Energy industries. The Senior Firmware Engineer owns the analysis, design, integration, documentation, and troubleshooting of Embedded FPGA designs for the product platforms primarily consisting of motor controllers in the 100W to 50kW range within Space, Defense, Energy and Thermal Management product segments.\"\n",
            "}\n"
          ]
        }
      ]
    },
    {
      "cell_type": "code",
      "source": [
        "type(result.content)"
      ],
      "metadata": {
        "colab": {
          "base_uri": "https://localhost:8080/"
        },
        "id": "ZZJ3JRnKFzIZ",
        "outputId": "d2ca4acc-a24a-4180-d5de-de6046b5a78e"
      },
      "execution_count": 177,
      "outputs": [
        {
          "output_type": "execute_result",
          "data": {
            "text/plain": [
              "str"
            ]
          },
          "metadata": {},
          "execution_count": 177
        }
      ]
    },
    {
      "cell_type": "code",
      "source": [
        "# convert the string content to JSON\n",
        "\n",
        "from langchain_core.output_parsers import JsonOutputParser\n",
        "json_parser = JsonOutputParser()\n",
        "json_output = json_parser.parse(result.content)\n",
        "type(json_output)"
      ],
      "metadata": {
        "colab": {
          "base_uri": "https://localhost:8080/"
        },
        "id": "-EucVdaFKVb5",
        "outputId": "52e32e78-daa9-438a-993c-6bedefd820d7"
      },
      "execution_count": 178,
      "outputs": [
        {
          "output_type": "execute_result",
          "data": {
            "text/plain": [
              "dict"
            ]
          },
          "metadata": {},
          "execution_count": 178
        }
      ]
    },
    {
      "cell_type": "code",
      "source": [
        "print(json_output)"
      ],
      "metadata": {
        "colab": {
          "base_uri": "https://localhost:8080/"
        },
        "id": "CCFd6AG3LduN",
        "outputId": "d222a8bd-80f9-40f6-f582-42de1a4c9b9b"
      },
      "execution_count": 179,
      "outputs": [
        {
          "output_type": "stream",
          "name": "stdout",
          "text": [
            "{'role': 'Senior Firmware Engineer', 'experience': 'Minimum of 8 years related experience', 'skills': ['Strong proficiency in MATLAB Simulink', 'Minimum of 5 years’ experience with building Simulink models', 'Strong ability to debug FPGA hardware on target in a laboratory environment', 'Exceptional knowledge of SPI/PCIe/Rs422/CAN/ARINC/I2C/CRCs/JTAG', 'Experience with Xilinx, Microsemi, and Lattice FPGA devices', 'Working knowledge of safety critical systems and architectures', 'Working knowledge of switching power supplies, inverter design, and motor controls'], 'description': 'Barber-Nichols is a leading provider of custom turbomachinery for the Defense, Aerospace, Cryogenics and Energy industries. The Senior Firmware Engineer owns the analysis, design, integration, documentation, and troubleshooting of Embedded FPGA designs for the product platforms primarily consisting of motor controllers in the 100W to 50kW range within Space, Defense, Energy and Thermal Management product segments.'}\n"
          ]
        }
      ]
    },
    {
      "cell_type": "code",
      "source": [
        "# Read your portfolio file\n",
        "import pandas as pd\n",
        "data = pd.read_csv(\"./Portfolio.csv\")\n",
        "data.head(10)"
      ],
      "metadata": {
        "colab": {
          "base_uri": "https://localhost:8080/",
          "height": 363
        },
        "id": "zB2HrG_DHIUi",
        "outputId": "4d52563e-7006-4cee-9f94-59eeba35d924"
      },
      "execution_count": 180,
      "outputs": [
        {
          "output_type": "execute_result",
          "data": {
            "text/plain": [
              "                                           Techstack  \\\n",
              "0                React, Node.js, MongoDB, Express.js   \n",
              "1                  Django, PostgreSQL, Docker, Redis   \n",
              "2              Angular, Spring Boot, MySQL, RabbitMQ   \n",
              "3                  Vue.js, Flask, SQLite, AWS Lambda   \n",
              "4   Next.js, Tailwind CSS, Firebase, Cloud Functions   \n",
              "5         Ruby on Rails, PostgreSQL, Heroku, Sidekiq   \n",
              "6                 Express.js, Vue.js, MongoDB, Nginx   \n",
              "7                  Laravel, Vue.js, MariaDB, Vagrant   \n",
              "8       React Native, GraphQL, Apollo Client, SQLite   \n",
              "9  ASP.NET Core, Angular, SQL Server, Azure Funct...   \n",
              "\n",
              "                                   Link to portfolio  \n",
              "0  https://my_portfolio/react-node-mongo-express.com  \n",
              "1  https://my_portfolio/django-postgres-docker-re...  \n",
              "2  https://my_portfolio/angular-springboot-mysql-...  \n",
              "3   https://my_portfolio/vue-flask-sqlite-aws-lam...  \n",
              "4  https://my_portfolio/next-tailwind-firebase-cl...  \n",
              "5  https://my_portfolio/ruby-postgres-heroku-side...  \n",
              "6   https://my_portfolio/express-vue-mongo-nginx.com  \n",
              "7  https://my_portfolio/laravel-vue-mariadb-vagra...  \n",
              "8  https://my_portfolio/reactnative-graphql-apoll...  \n",
              "9  https://my_portfolio/aspnet-angular-sqlserver-...  "
            ],
            "text/html": [
              "\n",
              "  <div id=\"df-5e7fa366-2281-4d5d-96d9-4351aab6f37d\" class=\"colab-df-container\">\n",
              "    <div>\n",
              "<style scoped>\n",
              "    .dataframe tbody tr th:only-of-type {\n",
              "        vertical-align: middle;\n",
              "    }\n",
              "\n",
              "    .dataframe tbody tr th {\n",
              "        vertical-align: top;\n",
              "    }\n",
              "\n",
              "    .dataframe thead th {\n",
              "        text-align: right;\n",
              "    }\n",
              "</style>\n",
              "<table border=\"1\" class=\"dataframe\">\n",
              "  <thead>\n",
              "    <tr style=\"text-align: right;\">\n",
              "      <th></th>\n",
              "      <th>Techstack</th>\n",
              "      <th>Link to portfolio</th>\n",
              "    </tr>\n",
              "  </thead>\n",
              "  <tbody>\n",
              "    <tr>\n",
              "      <th>0</th>\n",
              "      <td>React, Node.js, MongoDB, Express.js</td>\n",
              "      <td>https://my_portfolio/react-node-mongo-express.com</td>\n",
              "    </tr>\n",
              "    <tr>\n",
              "      <th>1</th>\n",
              "      <td>Django, PostgreSQL, Docker, Redis</td>\n",
              "      <td>https://my_portfolio/django-postgres-docker-re...</td>\n",
              "    </tr>\n",
              "    <tr>\n",
              "      <th>2</th>\n",
              "      <td>Angular, Spring Boot, MySQL, RabbitMQ</td>\n",
              "      <td>https://my_portfolio/angular-springboot-mysql-...</td>\n",
              "    </tr>\n",
              "    <tr>\n",
              "      <th>3</th>\n",
              "      <td>Vue.js, Flask, SQLite, AWS Lambda</td>\n",
              "      <td>https://my_portfolio/vue-flask-sqlite-aws-lam...</td>\n",
              "    </tr>\n",
              "    <tr>\n",
              "      <th>4</th>\n",
              "      <td>Next.js, Tailwind CSS, Firebase, Cloud Functions</td>\n",
              "      <td>https://my_portfolio/next-tailwind-firebase-cl...</td>\n",
              "    </tr>\n",
              "    <tr>\n",
              "      <th>5</th>\n",
              "      <td>Ruby on Rails, PostgreSQL, Heroku, Sidekiq</td>\n",
              "      <td>https://my_portfolio/ruby-postgres-heroku-side...</td>\n",
              "    </tr>\n",
              "    <tr>\n",
              "      <th>6</th>\n",
              "      <td>Express.js, Vue.js, MongoDB, Nginx</td>\n",
              "      <td>https://my_portfolio/express-vue-mongo-nginx.com</td>\n",
              "    </tr>\n",
              "    <tr>\n",
              "      <th>7</th>\n",
              "      <td>Laravel, Vue.js, MariaDB, Vagrant</td>\n",
              "      <td>https://my_portfolio/laravel-vue-mariadb-vagra...</td>\n",
              "    </tr>\n",
              "    <tr>\n",
              "      <th>8</th>\n",
              "      <td>React Native, GraphQL, Apollo Client, SQLite</td>\n",
              "      <td>https://my_portfolio/reactnative-graphql-apoll...</td>\n",
              "    </tr>\n",
              "    <tr>\n",
              "      <th>9</th>\n",
              "      <td>ASP.NET Core, Angular, SQL Server, Azure Funct...</td>\n",
              "      <td>https://my_portfolio/aspnet-angular-sqlserver-...</td>\n",
              "    </tr>\n",
              "  </tbody>\n",
              "</table>\n",
              "</div>\n",
              "    <div class=\"colab-df-buttons\">\n",
              "\n",
              "  <div class=\"colab-df-container\">\n",
              "    <button class=\"colab-df-convert\" onclick=\"convertToInteractive('df-5e7fa366-2281-4d5d-96d9-4351aab6f37d')\"\n",
              "            title=\"Convert this dataframe to an interactive table.\"\n",
              "            style=\"display:none;\">\n",
              "\n",
              "  <svg xmlns=\"http://www.w3.org/2000/svg\" height=\"24px\" viewBox=\"0 -960 960 960\">\n",
              "    <path d=\"M120-120v-720h720v720H120Zm60-500h600v-160H180v160Zm220 220h160v-160H400v160Zm0 220h160v-160H400v160ZM180-400h160v-160H180v160Zm440 0h160v-160H620v160ZM180-180h160v-160H180v160Zm440 0h160v-160H620v160Z\"/>\n",
              "  </svg>\n",
              "    </button>\n",
              "\n",
              "  <style>\n",
              "    .colab-df-container {\n",
              "      display:flex;\n",
              "      gap: 12px;\n",
              "    }\n",
              "\n",
              "    .colab-df-convert {\n",
              "      background-color: #E8F0FE;\n",
              "      border: none;\n",
              "      border-radius: 50%;\n",
              "      cursor: pointer;\n",
              "      display: none;\n",
              "      fill: #1967D2;\n",
              "      height: 32px;\n",
              "      padding: 0 0 0 0;\n",
              "      width: 32px;\n",
              "    }\n",
              "\n",
              "    .colab-df-convert:hover {\n",
              "      background-color: #E2EBFA;\n",
              "      box-shadow: 0px 1px 2px rgba(60, 64, 67, 0.3), 0px 1px 3px 1px rgba(60, 64, 67, 0.15);\n",
              "      fill: #174EA6;\n",
              "    }\n",
              "\n",
              "    .colab-df-buttons div {\n",
              "      margin-bottom: 4px;\n",
              "    }\n",
              "\n",
              "    [theme=dark] .colab-df-convert {\n",
              "      background-color: #3B4455;\n",
              "      fill: #D2E3FC;\n",
              "    }\n",
              "\n",
              "    [theme=dark] .colab-df-convert:hover {\n",
              "      background-color: #434B5C;\n",
              "      box-shadow: 0px 1px 3px 1px rgba(0, 0, 0, 0.15);\n",
              "      filter: drop-shadow(0px 1px 2px rgba(0, 0, 0, 0.3));\n",
              "      fill: #FFFFFF;\n",
              "    }\n",
              "  </style>\n",
              "\n",
              "    <script>\n",
              "      const buttonEl =\n",
              "        document.querySelector('#df-5e7fa366-2281-4d5d-96d9-4351aab6f37d button.colab-df-convert');\n",
              "      buttonEl.style.display =\n",
              "        google.colab.kernel.accessAllowed ? 'block' : 'none';\n",
              "\n",
              "      async function convertToInteractive(key) {\n",
              "        const element = document.querySelector('#df-5e7fa366-2281-4d5d-96d9-4351aab6f37d');\n",
              "        const dataTable =\n",
              "          await google.colab.kernel.invokeFunction('convertToInteractive',\n",
              "                                                    [key], {});\n",
              "        if (!dataTable) return;\n",
              "\n",
              "        const docLinkHtml = 'Like what you see? Visit the ' +\n",
              "          '<a target=\"_blank\" href=https://colab.research.google.com/notebooks/data_table.ipynb>data table notebook</a>'\n",
              "          + ' to learn more about interactive tables.';\n",
              "        element.innerHTML = '';\n",
              "        dataTable['output_type'] = 'display_data';\n",
              "        await google.colab.output.renderOutput(dataTable, element);\n",
              "        const docLink = document.createElement('div');\n",
              "        docLink.innerHTML = docLinkHtml;\n",
              "        element.appendChild(docLink);\n",
              "      }\n",
              "    </script>\n",
              "  </div>\n",
              "\n",
              "\n",
              "<div id=\"df-e283c374-9272-4ab7-9b2d-fd662885711c\">\n",
              "  <button class=\"colab-df-quickchart\" onclick=\"quickchart('df-e283c374-9272-4ab7-9b2d-fd662885711c')\"\n",
              "            title=\"Suggest charts\"\n",
              "            style=\"display:none;\">\n",
              "\n",
              "<svg xmlns=\"http://www.w3.org/2000/svg\" height=\"24px\"viewBox=\"0 0 24 24\"\n",
              "     width=\"24px\">\n",
              "    <g>\n",
              "        <path d=\"M19 3H5c-1.1 0-2 .9-2 2v14c0 1.1.9 2 2 2h14c1.1 0 2-.9 2-2V5c0-1.1-.9-2-2-2zM9 17H7v-7h2v7zm4 0h-2V7h2v10zm4 0h-2v-4h2v4z\"/>\n",
              "    </g>\n",
              "</svg>\n",
              "  </button>\n",
              "\n",
              "<style>\n",
              "  .colab-df-quickchart {\n",
              "      --bg-color: #E8F0FE;\n",
              "      --fill-color: #1967D2;\n",
              "      --hover-bg-color: #E2EBFA;\n",
              "      --hover-fill-color: #174EA6;\n",
              "      --disabled-fill-color: #AAA;\n",
              "      --disabled-bg-color: #DDD;\n",
              "  }\n",
              "\n",
              "  [theme=dark] .colab-df-quickchart {\n",
              "      --bg-color: #3B4455;\n",
              "      --fill-color: #D2E3FC;\n",
              "      --hover-bg-color: #434B5C;\n",
              "      --hover-fill-color: #FFFFFF;\n",
              "      --disabled-bg-color: #3B4455;\n",
              "      --disabled-fill-color: #666;\n",
              "  }\n",
              "\n",
              "  .colab-df-quickchart {\n",
              "    background-color: var(--bg-color);\n",
              "    border: none;\n",
              "    border-radius: 50%;\n",
              "    cursor: pointer;\n",
              "    display: none;\n",
              "    fill: var(--fill-color);\n",
              "    height: 32px;\n",
              "    padding: 0;\n",
              "    width: 32px;\n",
              "  }\n",
              "\n",
              "  .colab-df-quickchart:hover {\n",
              "    background-color: var(--hover-bg-color);\n",
              "    box-shadow: 0 1px 2px rgba(60, 64, 67, 0.3), 0 1px 3px 1px rgba(60, 64, 67, 0.15);\n",
              "    fill: var(--button-hover-fill-color);\n",
              "  }\n",
              "\n",
              "  .colab-df-quickchart-complete:disabled,\n",
              "  .colab-df-quickchart-complete:disabled:hover {\n",
              "    background-color: var(--disabled-bg-color);\n",
              "    fill: var(--disabled-fill-color);\n",
              "    box-shadow: none;\n",
              "  }\n",
              "\n",
              "  .colab-df-spinner {\n",
              "    border: 2px solid var(--fill-color);\n",
              "    border-color: transparent;\n",
              "    border-bottom-color: var(--fill-color);\n",
              "    animation:\n",
              "      spin 1s steps(1) infinite;\n",
              "  }\n",
              "\n",
              "  @keyframes spin {\n",
              "    0% {\n",
              "      border-color: transparent;\n",
              "      border-bottom-color: var(--fill-color);\n",
              "      border-left-color: var(--fill-color);\n",
              "    }\n",
              "    20% {\n",
              "      border-color: transparent;\n",
              "      border-left-color: var(--fill-color);\n",
              "      border-top-color: var(--fill-color);\n",
              "    }\n",
              "    30% {\n",
              "      border-color: transparent;\n",
              "      border-left-color: var(--fill-color);\n",
              "      border-top-color: var(--fill-color);\n",
              "      border-right-color: var(--fill-color);\n",
              "    }\n",
              "    40% {\n",
              "      border-color: transparent;\n",
              "      border-right-color: var(--fill-color);\n",
              "      border-top-color: var(--fill-color);\n",
              "    }\n",
              "    60% {\n",
              "      border-color: transparent;\n",
              "      border-right-color: var(--fill-color);\n",
              "    }\n",
              "    80% {\n",
              "      border-color: transparent;\n",
              "      border-right-color: var(--fill-color);\n",
              "      border-bottom-color: var(--fill-color);\n",
              "    }\n",
              "    90% {\n",
              "      border-color: transparent;\n",
              "      border-bottom-color: var(--fill-color);\n",
              "    }\n",
              "  }\n",
              "</style>\n",
              "\n",
              "  <script>\n",
              "    async function quickchart(key) {\n",
              "      const quickchartButtonEl =\n",
              "        document.querySelector('#' + key + ' button');\n",
              "      quickchartButtonEl.disabled = true;  // To prevent multiple clicks.\n",
              "      quickchartButtonEl.classList.add('colab-df-spinner');\n",
              "      try {\n",
              "        const charts = await google.colab.kernel.invokeFunction(\n",
              "            'suggestCharts', [key], {});\n",
              "      } catch (error) {\n",
              "        console.error('Error during call to suggestCharts:', error);\n",
              "      }\n",
              "      quickchartButtonEl.classList.remove('colab-df-spinner');\n",
              "      quickchartButtonEl.classList.add('colab-df-quickchart-complete');\n",
              "    }\n",
              "    (() => {\n",
              "      let quickchartButtonEl =\n",
              "        document.querySelector('#df-e283c374-9272-4ab7-9b2d-fd662885711c button');\n",
              "      quickchartButtonEl.style.display =\n",
              "        google.colab.kernel.accessAllowed ? 'block' : 'none';\n",
              "    })();\n",
              "  </script>\n",
              "</div>\n",
              "\n",
              "    </div>\n",
              "  </div>\n"
            ],
            "application/vnd.google.colaboratory.intrinsic+json": {
              "type": "dataframe",
              "variable_name": "data",
              "summary": "{\n  \"name\": \"data\",\n  \"rows\": 20,\n  \"fields\": [\n    {\n      \"column\": \"Techstack\",\n      \"properties\": {\n        \"dtype\": \"string\",\n        \"num_unique_values\": 20,\n        \"samples\": [\n          \"React, Node.js, MongoDB, Express.js\",\n          \"Flask, PyTorch, MongoDB, Streamlit\",\n          \"FastAPI, PostgreSQL, React, AWS S3\"\n        ],\n        \"semantic_type\": \"\",\n        \"description\": \"\"\n      }\n    },\n    {\n      \"column\": \"Link to portfolio\",\n      \"properties\": {\n        \"dtype\": \"string\",\n        \"num_unique_values\": 20,\n        \"samples\": [\n          \"https://my_portfolio/react-node-mongo-express.com\",\n          \"https://my_portfolio/flask-pytorch-mongo-streamlit.com\",\n          \"https://my_portfolio/fastapi-postgres-react-aws.com\\n\"\n        ],\n        \"semantic_type\": \"\",\n        \"description\": \"\"\n      }\n    }\n  ]\n}"
            }
          },
          "metadata": {},
          "execution_count": 180
        }
      ]
    },
    {
      "cell_type": "code",
      "source": [
        "# setting up chromadb\n",
        "\n",
        "import chromadb\n",
        "\n",
        "# saves the database to the disk\n",
        "client = chromadb.PersistentClient('myVectorStore')\n",
        "collection = client.get_or_create_collection(name = 'myPortfolio')"
      ],
      "metadata": {
        "id": "7Mni7jCMP9Ii"
      },
      "execution_count": 181,
      "outputs": []
    },
    {
      "cell_type": "code",
      "source": [
        "# store the portfolio links in vector database\n",
        "\n",
        "import uuid\n",
        "\n",
        "if not collection.count():\n",
        "  for _, row in data.iterrows():\n",
        "    collection.add(documents = row[\"Techstack\"],\n",
        "                   metadatas =  {\"links\" : row[\"Link to portfolio\"]},\n",
        "                   ids = [str(uuid.uuid4())]       #universally unique identifiers for each record\n",
        "                   )"
      ],
      "metadata": {
        "id": "CDTB47bkTSet"
      },
      "execution_count": 182,
      "outputs": []
    },
    {
      "cell_type": "code",
      "source": [
        "#test run to see what portfolio links are returned\n",
        "response_links = collection.query(query_texts = [\"Experience in Cloud services\", \"Experience in developing Machine Learning\"], n_results = 1).get('metadatas', [])\n",
        "response_links"
      ],
      "metadata": {
        "colab": {
          "base_uri": "https://localhost:8080/"
        },
        "id": "69xHjrnAU8nr",
        "outputId": "cd663c00-1b4f-4763-d4e5-677268a24907"
      },
      "execution_count": 183,
      "outputs": [
        {
          "output_type": "execute_result",
          "data": {
            "text/plain": [
              "[[{'links': 'https://my_portfolio/flutter-firestore-cloudrun-material.com'}],\n",
              " [{'links': 'https://my_portfolio/opencv-scikit-flask-sqlite.com'}]]"
            ]
          },
          "metadata": {},
          "execution_count": 183
        }
      ]
    },
    {
      "cell_type": "code",
      "source": [
        "response_links = collection.query(query_texts = json_output[\"skills\"], n_results = 2).get('metadatas', [])\n",
        "response_links"
      ],
      "metadata": {
        "colab": {
          "base_uri": "https://localhost:8080/"
        },
        "id": "aMLui7d2WH1_",
        "outputId": "91c1deb6-61f2-4edd-d1cd-a398795f19e6"
      },
      "execution_count": 184,
      "outputs": [
        {
          "output_type": "execute_result",
          "data": {
            "text/plain": [
              "[[{'links': 'https://my_portfolio/tensorflow-pytorch-fastapi-docker.com'},\n",
              "  {'links': 'https://my_portfolio/opencv-scikit-flask-sqlite.com'}],\n",
              " [{'links': 'https://my_portfolio/tensorflow-pytorch-fastapi-docker.com'},\n",
              "  {'links': 'https://my_portfolio/unity-csharp-firebase-photon.com'}],\n",
              " [{'links': 'https://my_portfolio/tensorflow-pytorch-fastapi-docker.com'},\n",
              "  {'links': 'https://my_portfolio/flask-pytorch-mongo-streamlit.com'}],\n",
              " [{'links': 'https://my_portfolio/unity-csharp-firebase-photon.com'},\n",
              "  {'links': 'https://my_portfolio/ruby-postgres-heroku-sidekiq.com'}],\n",
              " [{'links': 'https://my_portfolio/tensorflow-pytorch-fastapi-docker.com'},\n",
              "  {'links': 'https://my_portfolio/unity-csharp-firebase-photon.com'}],\n",
              " [{'links': 'https://my_portfolio/unity-csharp-firebase-photon.com'},\n",
              "  {'links': 'https://my_portfolio/fastapi-postgres-react-aws.com\\n'}],\n",
              " [{'links': 'https://my_portfolio/react-node-mongo-express.com'},\n",
              "  {'links': 'https://my_portfolio/electron-sqlite-tailwind-node.com'}]]"
            ]
          },
          "metadata": {},
          "execution_count": 184
        }
      ]
    },
    {
      "cell_type": "code",
      "source": [
        "json_output[\"skills\"]"
      ],
      "metadata": {
        "colab": {
          "base_uri": "https://localhost:8080/"
        },
        "id": "g2cxQC1ZXET0",
        "outputId": "d7d33719-47ff-4b76-9117-566be6f5758a"
      },
      "execution_count": 185,
      "outputs": [
        {
          "output_type": "execute_result",
          "data": {
            "text/plain": [
              "['Strong proficiency in MATLAB Simulink',\n",
              " 'Minimum of 5 years’ experience with building Simulink models',\n",
              " 'Strong ability to debug FPGA hardware on target in a laboratory environment',\n",
              " 'Exceptional knowledge of SPI/PCIe/Rs422/CAN/ARINC/I2C/CRCs/JTAG',\n",
              " 'Experience with Xilinx, Microsemi, and Lattice FPGA devices',\n",
              " 'Working knowledge of safety critical systems and architectures',\n",
              " 'Working knowledge of switching power supplies, inverter design, and motor controls']"
            ]
          },
          "metadata": {},
          "execution_count": 185
        }
      ]
    },
    {
      "cell_type": "code",
      "source": [
        "response = collection.query(query_texts = json_output[\"description\"], n_results = 2).get('metadatas', [])\n",
        "response"
      ],
      "metadata": {
        "colab": {
          "base_uri": "https://localhost:8080/"
        },
        "id": "fOr0ZD42sgr9",
        "outputId": "96633dea-eb57-4d5c-c119-8ff408b0acad"
      },
      "execution_count": 186,
      "outputs": [
        {
          "output_type": "execute_result",
          "data": {
            "text/plain": [
              "[[{'links': 'https://my_portfolio/unity-csharp-firebase-photon.com'},\n",
              "  {'links': 'https://my_portfolio/django-postgres-docker-redis.com'}]]"
            ]
          },
          "metadata": {},
          "execution_count": 186
        }
      ]
    },
    {
      "cell_type": "code",
      "source": [
        "json_output[\"description\"]"
      ],
      "metadata": {
        "colab": {
          "base_uri": "https://localhost:8080/",
          "height": 71
        },
        "id": "Mfto4Tqbs4i1",
        "outputId": "a8af025d-26b2-4879-f042-c24954909d08"
      },
      "execution_count": 187,
      "outputs": [
        {
          "output_type": "execute_result",
          "data": {
            "text/plain": [
              "'Barber-Nichols is a leading provider of custom turbomachinery for the Defense, Aerospace, Cryogenics and Energy industries. The Senior Firmware Engineer owns the analysis, design, integration, documentation, and troubleshooting of Embedded FPGA designs for the product platforms primarily consisting of motor controllers in the 100W to 50kW range within Space, Defense, Energy and Thermal Management product segments.'"
            ],
            "application/vnd.google.colaboratory.intrinsic+json": {
              "type": "string"
            }
          },
          "metadata": {},
          "execution_count": 187
        }
      ]
    },
    {
      "cell_type": "code",
      "source": [
        "# prompt template for generating an email\n",
        "\n",
        "prompt_email = ChatPromptTemplate.from_template(\n",
        "    \"\"\"\n",
        "    ### JOB DESCRIPTION:\n",
        "    {job_description}\n",
        "\n",
        "    ### INSTRUCTION:\n",
        "    You are Chandan a highly motivated graduate student in Computer Science from Purdue Indianapolis, specializing in\n",
        "    Data Science, Machine Learning, and Artificial Intelligence. You have strong hands-on experience and have\n",
        "    worked on impactful projects that demonstrate your ability to solve complex problems in these domains.\n",
        "\n",
        "    Your task is to draft a personalized email for the job described above. The email should:\n",
        "    1. Highlight your relevant skills and expertise based on the job description.\n",
        "    2. Mention your academic background at Purdue Indianapolis.\n",
        "    3. Showcase one or two of your most relevant projects, including {portfolio_list} if applicable.\n",
        "    4. Clearly communicate your interest in contributing to the company’s goals and how your experience aligns with their needs.\n",
        "\n",
        "    Ensure the tone is professional yet enthusiastic, and make the email concise and impactful.\n",
        "\n",
        "    ### EMAIL (NO PREAMBLE):\n",
        "\n",
        "    \"\"\"\n",
        ")\n",
        "\n",
        "llm_email_chain = prompt_email | model\n",
        "cold_email = llm_email_chain.invoke({\"job_description\" : str(json_output), \"portfolio_list\" : response_links})\n",
        "print(cold_email.content)"
      ],
      "metadata": {
        "colab": {
          "base_uri": "https://localhost:8080/"
        },
        "id": "_xvDpRd4s-B-",
        "outputId": "90b3f32d-b3ee-431f-b6c9-f1051c906b4e"
      },
      "execution_count": 188,
      "outputs": [
        {
          "output_type": "stream",
          "name": "stdout",
          "text": [
            "Subject: Application for Senior Firmware Engineer Position\n",
            "\n",
            "Dear Hiring Manager,\n",
            "\n",
            "I am thrilled to apply for the Senior Firmware Engineer position at Barber-Nichols. As a highly motivated graduate student in Computer Science at Purdue Indianapolis, specializing in Data Science, Machine Learning, and Artificial Intelligence, I am confident that my skills and experience make me an ideal fit for this role.\n",
            "\n",
            "Although my background is in Data Science, Machine Learning, and Artificial Intelligence, I have a strong foundation in programming languages and embedded systems, which I believe are transferable to the firmware development field. I have hands-on experience with MATLAB, which I've used in various academic projects, including signal processing and control systems. Additionally, I have experience working with real-time systems, which I believe is essential for developing FPGA designs.\n",
            "\n",
            "I would like to highlight two projects that I've worked on that demonstrate my skills and potential. The first project involves a real-time object detection system using TensorFlow, PyTorch, and FastAPI, where I integrated computer vision algorithms with a real-time API. The second project is a control system for a robotic arm using OpenCV, Scikit, and Flask. Although these projects are not directly related to FPGA development, they showcase my problem-solving skills, programming abilities, and experience working on complex systems.\n",
            "\n",
            "I am particularly drawn to Barber-Nichols because of the company's commitment to innovation and excellence in the development of custom turbomachinery. As someone who is passionate about solving complex problems, I am excited about the opportunity to work on projects that have a significant impact on the industry. I am confident that my strong foundation in computer science, combined with my enthusiasm for learning and taking on new challenges, make me a strong fit for this role.\n",
            "\n",
            "In addition to my technical skills and experience, I possess strong communication and teamwork skills, which I believe are essential for success in this position. I am confident that my unique blend of academic background, technical expertise, and passion for innovation make me an ideal candidate for the Senior Firmware Engineer position at Barber-Nichols.\n",
            "\n",
            "To learn more about my projects and experience, I invite you to visit my portfolio: https://my_portfolio/tensorflow-pytorch-fastapi-docker.com and https://my_portfolio/opencv-scikit-flask-sqlite.com. I am excited about the opportunity to discuss my application and how I can contribute to the company's goals.\n",
            "\n",
            "Thank you for considering my application. I look forward to hearing from you.\n",
            "\n",
            "Sincerely,\n",
            "Chandan\n"
          ]
        }
      ]
    }
  ]
}
